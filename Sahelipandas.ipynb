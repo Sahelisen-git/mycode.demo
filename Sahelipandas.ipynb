{
  "nbformat": 4,
  "nbformat_minor": 0,
  "metadata": {
    "colab": {
      "provenance": [],
      "authorship_tag": "ABX9TyO3pz5e0bE0OKz0nWQ5/Owp",
      "include_colab_link": true
    },
    "kernelspec": {
      "name": "python3",
      "display_name": "Python 3"
    },
    "language_info": {
      "name": "python"
    }
  },
  "cells": [
    {
      "cell_type": "markdown",
      "metadata": {
        "id": "view-in-github",
        "colab_type": "text"
      },
      "source": [
        "<a href=\"https://colab.research.google.com/github/Sahelisen-git/mycode.demo/blob/main/Sahelipandas.ipynb\" target=\"_parent\"><img src=\"https://colab.research.google.com/assets/colab-badge.svg\" alt=\"Open In Colab\"/></a>"
      ]
    },
    {
      "cell_type": "code",
      "execution_count": 1,
      "metadata": {
        "colab": {
          "base_uri": "https://localhost:8080/"
        },
        "id": "DDKWp_06jyl7",
        "outputId": "0494657b-8dac-49a6-b62d-f81497fb1201"
      },
      "outputs": [
        {
          "output_type": "stream",
          "name": "stdout",
          "text": [
            "series \n",
            " 0    12\n",
            "1    14\n",
            "2    56\n",
            "3    89\n",
            "dtype: int64\n"
          ]
        }
      ],
      "source": [
        "import pandas as pd\n",
        "\n",
        "mylist=[12,14,56,89]\n",
        "\n",
        "res=pd.Series(mylist)\n",
        "\n",
        "print(\"series \\n\",res)"
      ]
    }
  ]
}